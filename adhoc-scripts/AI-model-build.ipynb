{
 "cells": [
  {
   "cell_type": "code",
   "execution_count": 1,
   "metadata": {},
   "outputs": [],
   "source": [
    "import tensorflow as tf\n",
    "import pandas as pd\n",
    "import numpy as np\n",
    "import matplotlib.pyplot as plt"
   ]
  },
  {
   "cell_type": "code",
   "execution_count": 2,
   "metadata": {},
   "outputs": [],
   "source": [
    "data = pd.read_csv('earnings_data.csv')\n",
    "x_train = data['Surprise']\n",
    "y_train = data['Share Price Change']"
   ]
  },
  {
   "cell_type": "code",
   "execution_count": 9,
   "metadata": {},
   "outputs": [],
   "source": [
    "# Define the model\n",
    "model = tf.keras.models.Sequential([\n",
    "  tf.keras.layers.Input(shape=(1,)),\n",
    "  tf.keras.layers.Dense(32, activation=\"relu\"),\n",
    "  tf.keras.layers.Dense(1)\n",
    "])\n",
    "\n",
    "# Compile the model\n",
    "model.compile(optimizer=tf.optimizers.Adam(), loss='mean_squared_error')\n"
   ]
  },
  {
   "cell_type": "code",
   "execution_count": 10,
   "metadata": {},
   "outputs": [
    {
     "name": "stdout",
     "output_type": "stream",
     "text": [
      "Epoch 1/20\n",
      "20/20 - 1s - 67ms/step - loss: 0.0272 - val_loss: 1.7732\n",
      "Epoch 2/20\n",
      "20/20 - 0s - 5ms/step - loss: 0.0166 - val_loss: 1.1150\n",
      "Epoch 3/20\n",
      "20/20 - 0s - 5ms/step - loss: 0.0105 - val_loss: 0.6906\n",
      "Epoch 4/20\n",
      "20/20 - 0s - 4ms/step - loss: 0.0084 - val_loss: 0.4057\n",
      "Epoch 5/20\n",
      "20/20 - 0s - 4ms/step - loss: 0.0069 - val_loss: 0.2127\n",
      "Epoch 6/20\n",
      "20/20 - 0s - 5ms/step - loss: 0.0065 - val_loss: 0.1110\n",
      "Epoch 7/20\n",
      "20/20 - 0s - 5ms/step - loss: 0.0063 - val_loss: 0.0789\n",
      "Epoch 8/20\n",
      "20/20 - 0s - 5ms/step - loss: 0.0062 - val_loss: 0.0379\n",
      "Epoch 9/20\n",
      "20/20 - 0s - 5ms/step - loss: 0.0061 - val_loss: 0.0201\n",
      "Epoch 10/20\n",
      "20/20 - 0s - 5ms/step - loss: 0.0061 - val_loss: 0.0136\n",
      "Epoch 11/20\n",
      "20/20 - 0s - 5ms/step - loss: 0.0061 - val_loss: 0.0090\n",
      "Epoch 12/20\n",
      "20/20 - 0s - 5ms/step - loss: 0.0060 - val_loss: 0.0080\n",
      "Epoch 13/20\n",
      "20/20 - 0s - 5ms/step - loss: 0.0060 - val_loss: 0.0080\n",
      "Epoch 14/20\n",
      "20/20 - 0s - 7ms/step - loss: 0.0060 - val_loss: 0.0083\n",
      "Epoch 15/20\n",
      "20/20 - 0s - 5ms/step - loss: 0.0060 - val_loss: 0.0089\n",
      "Epoch 16/20\n",
      "20/20 - 0s - 5ms/step - loss: 0.0060 - val_loss: 0.0093\n",
      "Epoch 17/20\n",
      "20/20 - 0s - 8ms/step - loss: 0.0060 - val_loss: 0.0128\n",
      "Epoch 18/20\n",
      "20/20 - 0s - 9ms/step - loss: 0.0060 - val_loss: 0.0135\n",
      "Epoch 19/20\n",
      "20/20 - 0s - 6ms/step - loss: 0.0061 - val_loss: 0.0105\n",
      "Epoch 20/20\n",
      "20/20 - 0s - 9ms/step - loss: 0.0060 - val_loss: 0.0153\n"
     ]
    }
   ],
   "source": [
    "#fit the model\n",
    "history = model.fit(x_train, y_train, epochs=20, verbose=2, validation_split=0.2)"
   ]
  },
  {
   "cell_type": "code",
   "execution_count": 11,
   "metadata": {},
   "outputs": [
    {
     "data": {
      "image/png": "[encoded data removed]",
      "text/plain": [
       "<Figure size 640x480 with 1 Axes>"
      ]
     },
     "metadata": {},
     "output_type": "display_data"
    }
   ],
   "source": [
    "# Plot the training and validation loss\n",
    "plt.plot(history.history['loss'], label='train')\n",
    "plt.plot(history.history['val_loss'], label='validation')\n",
    "plt.xlabel('Epochs')\n",
    "plt.ylabel('Loss')\n",
    "plt.legend()\n",
    "plt.show()"
   ]
  },
  {
   "cell_type": "code",
   "execution_count": 12,
   "metadata": {},
   "outputs": [
    {
     "name": "stdout",
     "output_type": "stream",
     "text": [
      "\u001b[1m1/1\u001b[0m \u001b[32m━━━━━━━━━━━━━━━━━━━━\u001b[0m\u001b[37m\u001b[0m \u001b[1m0s\u001b[0m 63ms/step\n"
     ]
    },
    {
     "data": {
      "text/plain": [
       "-0.014732129"
      ]
     },
     "execution_count": 12,
     "metadata": {},
     "output_type": "execute_result"
    }
   ],
   "source": [
    "x = 0.05\n",
    "x = np.array([-0.05]).reshape(-1, 1)\n",
    "y_predicted = model.predict(x)\n",
    "y_predicted[0][0]"
   ]
  },
  {
   "cell_type": "code",
   "execution_count": 15,
   "metadata": {},
   "outputs": [],
   "source": [
    "model.save('..\\\\backend\\\\stock_warning_model.keras')"
   ]
  },
  {
   "cell_type": "code",
   "execution_count": null,
   "metadata": {},
   "outputs": [],
   "source": []
  }
 ],
 "metadata": {
  "kernelspec": {
   "display_name": "env",
   "language": "python",
   "name": "python3"
  },
  "language_info": {
   "codemirror_mode": {
    "name": "ipython",
    "version": 3
   },
   "file_extension": ".py",
   "mimetype": "text/x-python",
   "name": "python",
   "nbconvert_exporter": "python",
   "pygments_lexer": "ipython3",
   "version": "3.12.1"
  }
 },
 "nbformat": 4,
 "nbformat_minor": 2
}
